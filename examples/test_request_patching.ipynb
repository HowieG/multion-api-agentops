{
 "cells": [
  {
   "cell_type": "markdown",
   "metadata": {},
   "source": [
    "# MultiOn API Example\n",
    "\n",
    "Install the latest `multion` python package"
   ]
  },
  {
   "cell_type": "code",
   "execution_count": 1,
   "metadata": {},
   "outputs": [
    {
     "name": "stdout",
     "output_type": "stream",
     "text": [
      "Obtaining file:///Users/howardgil/Desktop/agentops/HowieG/multion-api-fork/sdks/multion-py\n",
      "  Installing build dependencies ... \u001b[?25ldone\n",
      "\u001b[?25h  Checking if build backend supports build_editable ... \u001b[?25ldone\n",
      "\u001b[?25h  Getting requirements to build editable ... \u001b[?25ldone\n",
      "\u001b[?25h  Preparing editable metadata (pyproject.toml) ... \u001b[?25ldone\n",
      "\u001b[?25hProcessing /Users/howardgil/Desktop/agentops/AgentOps-AI/agentops (from multion==0.3.14)\n",
      "  Installing build dependencies ... \u001b[?25ldone\n",
      "\u001b[?25h  Getting requirements to build wheel ... \u001b[?25ldone\n",
      "\u001b[?25h  Preparing metadata (pyproject.toml) ... \u001b[?25ldone\n",
      "\u001b[?25hRequirement already satisfied: cognitojwt<2.0.0,>=1.4.1 in /Users/howardgil/Desktop/agentops/HowieG/multion-api-fork/env/lib/python3.12/site-packages (from multion==0.3.14) (1.4.1)\n",
      "Requirement already satisfied: cryptography<42.0.0,>=41.0.1 in /Users/howardgil/Desktop/agentops/HowieG/multion-api-fork/env/lib/python3.12/site-packages (from multion==0.3.14) (41.0.7)\n",
      "Requirement already satisfied: deprecated<2.0.0,>=1.2.14 in /Users/howardgil/Desktop/agentops/HowieG/multion-api-fork/env/lib/python3.12/site-packages (from multion==0.3.14) (1.2.14)\n",
      "Requirement already satisfied: ipython<9.0.0,>=8.1.0 in /Users/howardgil/Desktop/agentops/HowieG/multion-api-fork/env/lib/python3.12/site-packages (from multion==0.3.14) (8.22.2)\n",
      "Requirement already satisfied: openai<2.0.0,>=1.3.0 in /Users/howardgil/Desktop/agentops/HowieG/multion-api-fork/env/lib/python3.12/site-packages (from multion==0.3.14) (1.13.3)\n",
      "Requirement already satisfied: pillow<11.0.0,>=10.0.1 in /Users/howardgil/Desktop/agentops/HowieG/multion-api-fork/env/lib/python3.12/site-packages (from multion==0.3.14) (10.2.0)\n",
      "Requirement already satisfied: pytesseract<0.4.0,>=0.3.10 in /Users/howardgil/Desktop/agentops/HowieG/multion-api-fork/env/lib/python3.12/site-packages (from multion==0.3.14) (0.3.10)\n",
      "Requirement already satisfied: pytest<9.0.0,>=8.0.2 in /Users/howardgil/Desktop/agentops/HowieG/multion-api-fork/env/lib/python3.12/site-packages (from multion==0.3.14) (8.0.2)\n",
      "Requirement already satisfied: requests<3.0.0,>=2.31.0 in /Users/howardgil/Desktop/agentops/HowieG/multion-api-fork/env/lib/python3.12/site-packages (from multion==0.3.14) (2.31.0)\n",
      "Requirement already satisfied: requests-oauthlib<2.0.0,>=1.3.1 in /Users/howardgil/Desktop/agentops/HowieG/multion-api-fork/env/lib/python3.12/site-packages (from multion==0.3.14) (1.3.1)\n",
      "Requirement already satisfied: python-jose[cryptography] in /Users/howardgil/Desktop/agentops/HowieG/multion-api-fork/env/lib/python3.12/site-packages (from cognitojwt<2.0.0,>=1.4.1->multion==0.3.14) (3.3.0)\n",
      "Requirement already satisfied: cffi>=1.12 in /Users/howardgil/Desktop/agentops/HowieG/multion-api-fork/env/lib/python3.12/site-packages (from cryptography<42.0.0,>=41.0.1->multion==0.3.14) (1.16.0)\n",
      "Requirement already satisfied: wrapt<2,>=1.10 in /Users/howardgil/Desktop/agentops/HowieG/multion-api-fork/env/lib/python3.12/site-packages (from deprecated<2.0.0,>=1.2.14->multion==0.3.14) (1.16.0)\n",
      "Requirement already satisfied: decorator in /Users/howardgil/Desktop/agentops/HowieG/multion-api-fork/env/lib/python3.12/site-packages (from ipython<9.0.0,>=8.1.0->multion==0.3.14) (5.1.1)\n",
      "Requirement already satisfied: jedi>=0.16 in /Users/howardgil/Desktop/agentops/HowieG/multion-api-fork/env/lib/python3.12/site-packages (from ipython<9.0.0,>=8.1.0->multion==0.3.14) (0.19.1)\n",
      "Requirement already satisfied: matplotlib-inline in /Users/howardgil/Desktop/agentops/HowieG/multion-api-fork/env/lib/python3.12/site-packages (from ipython<9.0.0,>=8.1.0->multion==0.3.14) (0.1.6)\n",
      "Requirement already satisfied: prompt-toolkit<3.1.0,>=3.0.41 in /Users/howardgil/Desktop/agentops/HowieG/multion-api-fork/env/lib/python3.12/site-packages (from ipython<9.0.0,>=8.1.0->multion==0.3.14) (3.0.43)\n",
      "Requirement already satisfied: pygments>=2.4.0 in /Users/howardgil/Desktop/agentops/HowieG/multion-api-fork/env/lib/python3.12/site-packages (from ipython<9.0.0,>=8.1.0->multion==0.3.14) (2.17.2)\n",
      "Requirement already satisfied: stack-data in /Users/howardgil/Desktop/agentops/HowieG/multion-api-fork/env/lib/python3.12/site-packages (from ipython<9.0.0,>=8.1.0->multion==0.3.14) (0.6.3)\n",
      "Requirement already satisfied: traitlets>=5.13.0 in /Users/howardgil/Desktop/agentops/HowieG/multion-api-fork/env/lib/python3.12/site-packages (from ipython<9.0.0,>=8.1.0->multion==0.3.14) (5.14.1)\n",
      "Requirement already satisfied: pexpect>4.3 in /Users/howardgil/Desktop/agentops/HowieG/multion-api-fork/env/lib/python3.12/site-packages (from ipython<9.0.0,>=8.1.0->multion==0.3.14) (4.9.0)\n",
      "Requirement already satisfied: anyio<5,>=3.5.0 in /Users/howardgil/Desktop/agentops/HowieG/multion-api-fork/env/lib/python3.12/site-packages (from openai<2.0.0,>=1.3.0->multion==0.3.14) (4.3.0)\n",
      "Requirement already satisfied: distro<2,>=1.7.0 in /Users/howardgil/Desktop/agentops/HowieG/multion-api-fork/env/lib/python3.12/site-packages (from openai<2.0.0,>=1.3.0->multion==0.3.14) (1.9.0)\n",
      "Requirement already satisfied: httpx<1,>=0.23.0 in /Users/howardgil/Desktop/agentops/HowieG/multion-api-fork/env/lib/python3.12/site-packages (from openai<2.0.0,>=1.3.0->multion==0.3.14) (0.27.0)\n",
      "Requirement already satisfied: pydantic<3,>=1.9.0 in /Users/howardgil/Desktop/agentops/HowieG/multion-api-fork/env/lib/python3.12/site-packages (from openai<2.0.0,>=1.3.0->multion==0.3.14) (2.6.3)\n",
      "Requirement already satisfied: sniffio in /Users/howardgil/Desktop/agentops/HowieG/multion-api-fork/env/lib/python3.12/site-packages (from openai<2.0.0,>=1.3.0->multion==0.3.14) (1.3.1)\n",
      "Requirement already satisfied: tqdm>4 in /Users/howardgil/Desktop/agentops/HowieG/multion-api-fork/env/lib/python3.12/site-packages (from openai<2.0.0,>=1.3.0->multion==0.3.14) (4.66.2)\n",
      "Requirement already satisfied: typing-extensions<5,>=4.7 in /Users/howardgil/Desktop/agentops/HowieG/multion-api-fork/env/lib/python3.12/site-packages (from openai<2.0.0,>=1.3.0->multion==0.3.14) (4.10.0)\n",
      "Requirement already satisfied: packaging>=21.3 in /Users/howardgil/Desktop/agentops/HowieG/multion-api-fork/env/lib/python3.12/site-packages (from pytesseract<0.4.0,>=0.3.10->multion==0.3.14) (23.2)\n",
      "Requirement already satisfied: iniconfig in /Users/howardgil/Desktop/agentops/HowieG/multion-api-fork/env/lib/python3.12/site-packages (from pytest<9.0.0,>=8.0.2->multion==0.3.14) (2.0.0)\n",
      "Requirement already satisfied: pluggy<2.0,>=1.3.0 in /Users/howardgil/Desktop/agentops/HowieG/multion-api-fork/env/lib/python3.12/site-packages (from pytest<9.0.0,>=8.0.2->multion==0.3.14) (1.4.0)\n",
      "Requirement already satisfied: charset-normalizer<4,>=2 in /Users/howardgil/Desktop/agentops/HowieG/multion-api-fork/env/lib/python3.12/site-packages (from requests<3.0.0,>=2.31.0->multion==0.3.14) (3.3.2)\n",
      "Requirement already satisfied: idna<4,>=2.5 in /Users/howardgil/Desktop/agentops/HowieG/multion-api-fork/env/lib/python3.12/site-packages (from requests<3.0.0,>=2.31.0->multion==0.3.14) (3.6)\n",
      "Requirement already satisfied: urllib3<3,>=1.21.1 in /Users/howardgil/Desktop/agentops/HowieG/multion-api-fork/env/lib/python3.12/site-packages (from requests<3.0.0,>=2.31.0->multion==0.3.14) (2.2.1)\n",
      "Requirement already satisfied: certifi>=2017.4.17 in /Users/howardgil/Desktop/agentops/HowieG/multion-api-fork/env/lib/python3.12/site-packages (from requests<3.0.0,>=2.31.0->multion==0.3.14) (2024.2.2)\n",
      "Requirement already satisfied: oauthlib>=3.0.0 in /Users/howardgil/Desktop/agentops/HowieG/multion-api-fork/env/lib/python3.12/site-packages (from requests-oauthlib<2.0.0,>=1.3.1->multion==0.3.14) (3.2.2)\n",
      "Requirement already satisfied: toml>=0.10.2 in /Users/howardgil/Desktop/agentops/HowieG/multion-api-fork/env/lib/python3.12/site-packages (from agentops@ file:///Users/howardgil/Desktop/agentops/AgentOps-AI/agentops->multion==0.3.14) (0.10.2)\n",
      "Requirement already satisfied: opentelemetry-api>=1.10.0 in /Users/howardgil/Desktop/agentops/HowieG/multion-api-fork/env/lib/python3.12/site-packages (from agentops@ file:///Users/howardgil/Desktop/agentops/AgentOps-AI/agentops->multion==0.3.14) (1.23.0)\n",
      "Requirement already satisfied: opentelemetry-sdk>=1.10.0 in /Users/howardgil/Desktop/agentops/HowieG/multion-api-fork/env/lib/python3.12/site-packages (from agentops@ file:///Users/howardgil/Desktop/agentops/AgentOps-AI/agentops->multion==0.3.14) (1.23.0)\n",
      "Requirement already satisfied: opentelemetry-instrumentation-requests>=0.33b0 in /Users/howardgil/Desktop/agentops/HowieG/multion-api-fork/env/lib/python3.12/site-packages (from agentops@ file:///Users/howardgil/Desktop/agentops/AgentOps-AI/agentops->multion==0.3.14) (0.44b0)\n",
      "Requirement already satisfied: pycparser in /Users/howardgil/Desktop/agentops/HowieG/multion-api-fork/env/lib/python3.12/site-packages (from cffi>=1.12->cryptography<42.0.0,>=41.0.1->multion==0.3.14) (2.21)\n",
      "Requirement already satisfied: httpcore==1.* in /Users/howardgil/Desktop/agentops/HowieG/multion-api-fork/env/lib/python3.12/site-packages (from httpx<1,>=0.23.0->openai<2.0.0,>=1.3.0->multion==0.3.14) (1.0.4)\n",
      "Requirement already satisfied: h11<0.15,>=0.13 in /Users/howardgil/Desktop/agentops/HowieG/multion-api-fork/env/lib/python3.12/site-packages (from httpcore==1.*->httpx<1,>=0.23.0->openai<2.0.0,>=1.3.0->multion==0.3.14) (0.14.0)\n",
      "Requirement already satisfied: parso<0.9.0,>=0.8.3 in /Users/howardgil/Desktop/agentops/HowieG/multion-api-fork/env/lib/python3.12/site-packages (from jedi>=0.16->ipython<9.0.0,>=8.1.0->multion==0.3.14) (0.8.3)\n",
      "Requirement already satisfied: importlib-metadata<7.0,>=6.0 in /Users/howardgil/Desktop/agentops/HowieG/multion-api-fork/env/lib/python3.12/site-packages (from opentelemetry-api>=1.10.0->agentops@ file:///Users/howardgil/Desktop/agentops/AgentOps-AI/agentops->multion==0.3.14) (6.11.0)\n",
      "Requirement already satisfied: opentelemetry-instrumentation==0.44b0 in /Users/howardgil/Desktop/agentops/HowieG/multion-api-fork/env/lib/python3.12/site-packages (from opentelemetry-instrumentation-requests>=0.33b0->agentops@ file:///Users/howardgil/Desktop/agentops/AgentOps-AI/agentops->multion==0.3.14) (0.44b0)\n",
      "Requirement already satisfied: opentelemetry-semantic-conventions==0.44b0 in /Users/howardgil/Desktop/agentops/HowieG/multion-api-fork/env/lib/python3.12/site-packages (from opentelemetry-instrumentation-requests>=0.33b0->agentops@ file:///Users/howardgil/Desktop/agentops/AgentOps-AI/agentops->multion==0.3.14) (0.44b0)\n",
      "Requirement already satisfied: opentelemetry-util-http==0.44b0 in /Users/howardgil/Desktop/agentops/HowieG/multion-api-fork/env/lib/python3.12/site-packages (from opentelemetry-instrumentation-requests>=0.33b0->agentops@ file:///Users/howardgil/Desktop/agentops/AgentOps-AI/agentops->multion==0.3.14) (0.44b0)\n",
      "Requirement already satisfied: setuptools>=16.0 in /Users/howardgil/Desktop/agentops/HowieG/multion-api-fork/env/lib/python3.12/site-packages (from opentelemetry-instrumentation==0.44b0->opentelemetry-instrumentation-requests>=0.33b0->agentops@ file:///Users/howardgil/Desktop/agentops/AgentOps-AI/agentops->multion==0.3.14) (69.1.1)\n",
      "Requirement already satisfied: ptyprocess>=0.5 in /Users/howardgil/Desktop/agentops/HowieG/multion-api-fork/env/lib/python3.12/site-packages (from pexpect>4.3->ipython<9.0.0,>=8.1.0->multion==0.3.14) (0.7.0)\n",
      "Requirement already satisfied: wcwidth in /Users/howardgil/Desktop/agentops/HowieG/multion-api-fork/env/lib/python3.12/site-packages (from prompt-toolkit<3.1.0,>=3.0.41->ipython<9.0.0,>=8.1.0->multion==0.3.14) (0.2.13)\n",
      "Requirement already satisfied: annotated-types>=0.4.0 in /Users/howardgil/Desktop/agentops/HowieG/multion-api-fork/env/lib/python3.12/site-packages (from pydantic<3,>=1.9.0->openai<2.0.0,>=1.3.0->multion==0.3.14) (0.6.0)\n",
      "Requirement already satisfied: pydantic-core==2.16.3 in /Users/howardgil/Desktop/agentops/HowieG/multion-api-fork/env/lib/python3.12/site-packages (from pydantic<3,>=1.9.0->openai<2.0.0,>=1.3.0->multion==0.3.14) (2.16.3)\n",
      "Requirement already satisfied: ecdsa!=0.15 in /Users/howardgil/Desktop/agentops/HowieG/multion-api-fork/env/lib/python3.12/site-packages (from python-jose[cryptography]->cognitojwt<2.0.0,>=1.4.1->multion==0.3.14) (0.18.0)\n",
      "Requirement already satisfied: rsa in /Users/howardgil/Desktop/agentops/HowieG/multion-api-fork/env/lib/python3.12/site-packages (from python-jose[cryptography]->cognitojwt<2.0.0,>=1.4.1->multion==0.3.14) (4.9)\n",
      "Requirement already satisfied: pyasn1 in /Users/howardgil/Desktop/agentops/HowieG/multion-api-fork/env/lib/python3.12/site-packages (from python-jose[cryptography]->cognitojwt<2.0.0,>=1.4.1->multion==0.3.14) (0.5.1)\n",
      "Requirement already satisfied: executing>=1.2.0 in /Users/howardgil/Desktop/agentops/HowieG/multion-api-fork/env/lib/python3.12/site-packages (from stack-data->ipython<9.0.0,>=8.1.0->multion==0.3.14) (2.0.1)\n",
      "Requirement already satisfied: asttokens>=2.1.0 in /Users/howardgil/Desktop/agentops/HowieG/multion-api-fork/env/lib/python3.12/site-packages (from stack-data->ipython<9.0.0,>=8.1.0->multion==0.3.14) (2.4.1)\n",
      "Requirement already satisfied: pure-eval in /Users/howardgil/Desktop/agentops/HowieG/multion-api-fork/env/lib/python3.12/site-packages (from stack-data->ipython<9.0.0,>=8.1.0->multion==0.3.14) (0.2.2)\n",
      "Requirement already satisfied: six>=1.12.0 in /Users/howardgil/Desktop/agentops/HowieG/multion-api-fork/env/lib/python3.12/site-packages (from asttokens>=2.1.0->stack-data->ipython<9.0.0,>=8.1.0->multion==0.3.14) (1.16.0)\n",
      "Requirement already satisfied: zipp>=0.5 in /Users/howardgil/Desktop/agentops/HowieG/multion-api-fork/env/lib/python3.12/site-packages (from importlib-metadata<7.0,>=6.0->opentelemetry-api>=1.10.0->agentops@ file:///Users/howardgil/Desktop/agentops/AgentOps-AI/agentops->multion==0.3.14) (3.17.0)\n",
      "Building wheels for collected packages: multion, agentops\n",
      "  Building editable for multion (pyproject.toml) ... \u001b[?25ldone\n",
      "\u001b[?25h  Created wheel for multion: filename=multion-0.3.14-py3-none-any.whl size=1477 sha256=cdd9dc151779fe9a6365bd95df743ccdc103cbc35e501e819b64c701c7c28b0d\n",
      "  Stored in directory: /private/var/folders/jb/71y2z4v178jdr5xcgbxfm0gc0000gp/T/pip-ephem-wheel-cache-r95vw7o6/wheels/85/eb/50/32f9a5695618dec230ab27c2c522418d132a5f4f5f33590651\n",
      "  Building wheel for agentops (pyproject.toml) ... \u001b[?25ldone\n",
      "\u001b[?25h  Created wheel for agentops: filename=agentops-0.0.23-py3-none-any.whl size=25638 sha256=bc10b83f351a16729ea11df9c7f24927768fa948357486ae452f8a02b725daa7\n",
      "  Stored in directory: /private/var/folders/jb/71y2z4v178jdr5xcgbxfm0gc0000gp/T/pip-ephem-wheel-cache-r95vw7o6/wheels/43/52/53/9286c77226c557a85392056462580d0d7db8d733d3a9c9be69\n",
      "Successfully built multion agentops\n",
      "Installing collected packages: agentops, multion\n",
      "  Attempting uninstall: agentops\n",
      "    Found existing installation: agentops 0.0.23\n",
      "    Uninstalling agentops-0.0.23:\n",
      "      Successfully uninstalled agentops-0.0.23\n",
      "  Attempting uninstall: multion\n",
      "    Found existing installation: multion 0.3.14\n",
      "    Uninstalling multion-0.3.14:\n",
      "      Successfully uninstalled multion-0.3.14\n",
      "Successfully installed agentops-0.0.23 multion-0.3.14\n",
      "Note: you may need to restart the kernel to use updated packages.\n"
     ]
    }
   ],
   "source": [
    "%pip install -e ../sdks/multion-py"
   ]
  },
  {
   "cell_type": "markdown",
   "metadata": {},
   "source": [
    "### OPTIONAL: Generate AgentOps API Key and set OS environment variable\n",
    "Must be set before import multion\n",
    "\n",
    "Visit [here](https://app.agentops.ai/account) to create your AgentOps API Key"
   ]
  },
  {
   "cell_type": "code",
   "execution_count": 2,
   "metadata": {},
   "outputs": [],
   "source": [
    "import multion"
   ]
  },
  {
   "cell_type": "markdown",
   "metadata": {},
   "source": [
    "### Generate MultiOn API Key and login\n",
    "\n",
    "Visit [here](https://app.multion.ai/api-keys) to create your MultiOn API Key"
   ]
  },
  {
   "cell_type": "code",
   "execution_count": 3,
   "metadata": {},
   "outputs": [
    {
     "name": "stdout",
     "output_type": "stream",
     "text": [
      "{\n",
      "    \"name\": \"GET\",\n",
      "    \"context\": {\n",
      "        \"trace_id\": \"0xf6aa51d66f36f681d3c3b46cfd3b6787\",\n",
      "        \"span_id\": \"0x8f3ee4e62b3895fc\",\n",
      "        \"trace_state\": \"[]\"\n",
      "    },\n",
      "    \"kind\": \"SpanKind.CLIENT\",\n",
      "    \"parent_id\": null,\n",
      "    \"start_time\": \"2024-03-11T19:22:42.394761Z\",\n",
      "    \"end_time\": \"2024-03-11T19:22:42.578751Z\",\n",
      "    \"status\": {\n",
      "        \"status_code\": \"UNSET\"\n",
      "    },\n",
      "    \"attributes\": {\n",
      "        \"http.method\": \"GET\",\n",
      "        \"http.url\": \"https://api.multion.ai/public/api/v1/verify_user\",\n",
      "        \"http.status_code\": 200\n",
      "    },\n",
      "    \"events\": [],\n",
      "    \"links\": [],\n",
      "    \"resource\": {\n",
      "        \"attributes\": {\n",
      "            \"telemetry.sdk.language\": \"python\",\n",
      "            \"telemetry.sdk.name\": \"opentelemetry\",\n",
      "            \"telemetry.sdk.version\": \"1.23.0\",\n",
      "            \"service.name\": \"unknown_service\"\n",
      "        },\n",
      "        \"schema_url\": \"\"\n",
      "    }\n",
      "}\n",
      "Logged in using API key.\n"
     ]
    }
   ],
   "source": [
    "multion.login(use_api=True, multion_api_key=\"0a4f3bc7361f4ec1aac78fae687808fb\")"
   ]
  },
  {
   "cell_type": "markdown",
   "metadata": {},
   "source": [
    "### Set API Mode\n",
    "Switch the API to local mode to run the Agent locally with the MultiOn Browser Extension for testing\n",
    "\n",
    "(You can enable the remote mode to run on our hosted cloud for production use)"
   ]
  },
  {
   "cell_type": "code",
   "execution_count": 4,
   "metadata": {},
   "outputs": [
    {
     "name": "stdout",
     "output_type": "stream",
     "text": [
      "{\n",
      "    \"name\": \"POST\",\n",
      "    \"context\": {\n",
      "        \"trace_id\": \"0x43ee2fac560e0f5873004e681589b038\",\n",
      "        \"span_id\": \"0x3f5efb06401bbf43\",\n",
      "        \"trace_state\": \"[]\"\n",
      "    },\n",
      "    \"kind\": \"SpanKind.CLIENT\",\n",
      "    \"parent_id\": \"0x8dcd83cdae1df8a4\",\n",
      "    \"start_time\": \"2024-03-11T19:22:42.586376Z\",\n",
      "    \"end_time\": \"2024-03-11T19:22:42.941927Z\",\n",
      "    \"status\": {\n",
      "        \"status_code\": \"UNSET\"\n",
      "    },\n",
      "    \"attributes\": {\n",
      "        \"http.method\": \"POST\",\n",
      "        \"http.url\": \"https://api.multion.ai/public/api/v1/is_remote\",\n",
      "        \"http.status_code\": 200\n",
      "    },\n",
      "    \"events\": [],\n",
      "    \"links\": [],\n",
      "    \"resource\": {\n",
      "        \"attributes\": {\n",
      "            \"telemetry.sdk.language\": \"python\",\n",
      "            \"telemetry.sdk.name\": \"opentelemetry\",\n",
      "            \"telemetry.sdk.version\": \"1.23.0\",\n",
      "            \"service.name\": \"unknown_service\"\n",
      "        },\n",
      "        \"schema_url\": \"\"\n",
      "    }\n",
      "}\n",
      "{\n",
      "    \"name\": \"http.POST\",\n",
      "    \"context\": {\n",
      "        \"trace_id\": \"0x43ee2fac560e0f5873004e681589b038\",\n",
      "        \"span_id\": \"0x8dcd83cdae1df8a4\",\n",
      "        \"trace_state\": \"[]\"\n",
      "    },\n",
      "    \"kind\": \"SpanKind.CLIENT\",\n",
      "    \"parent_id\": null,\n",
      "    \"start_time\": \"2024-03-11T19:22:42.584328Z\",\n",
      "    \"end_time\": \"2024-03-11T19:22:42.942767Z\",\n",
      "    \"status\": {\n",
      "        \"status_code\": \"UNSET\"\n",
      "    },\n",
      "    \"attributes\": {\n",
      "        \"http.request.body\": \"{'value': True}\",\n",
      "        \"http.url\": \"https://api.multion.ai/public/api/v1/is_remote\",\n",
      "        \"http.method\": \"POST\",\n",
      "        \"http.status_code\": 200\n",
      "    },\n",
      "    \"events\": [],\n",
      "    \"links\": [],\n",
      "    \"resource\": {\n",
      "        \"attributes\": {\n",
      "            \"telemetry.sdk.language\": \"python\",\n",
      "            \"telemetry.sdk.name\": \"opentelemetry\",\n",
      "            \"telemetry.sdk.version\": \"1.23.0\",\n",
      "            \"service.name\": \"unknown_service\"\n",
      "        },\n",
      "        \"schema_url\": \"\"\n",
      "    }\n",
      "}\n"
     ]
    },
    {
     "data": {
      "text/plain": [
       "True"
      ]
     },
     "execution_count": 4,
     "metadata": {},
     "output_type": "execute_result"
    }
   ],
   "source": [
    "multion.set_remote(True)"
   ]
  },
  {
   "cell_type": "markdown",
   "metadata": {},
   "source": [
    "### Try the MultiOn Browse API\n",
    "\n",
    "Give an input language command, starting url and max steps for the agent to take"
   ]
  },
  {
   "cell_type": "code",
   "execution_count": 5,
   "metadata": {},
   "outputs": [],
   "source": [
    "response = multion.browse(\n",
    "    {\n",
    "        \"cmd\": \"Tell me any health related events this month\",\n",
    "        \"url\": \"https://events.cerebralvalley.ai/\",\n",
    "        \"maxSteps\": 10,\n",
    "    }\n",
    ")"
   ]
  },
  {
   "cell_type": "code",
   "execution_count": 6,
   "metadata": {},
   "outputs": [],
   "source": [
    "# response"
   ]
  },
  {
   "cell_type": "markdown",
   "metadata": {},
   "source": [
    "`close_session`: Terminate the agent and close the session"
   ]
  },
  {
   "cell_type": "code",
   "execution_count": 7,
   "metadata": {},
   "outputs": [],
   "source": [
    "# session_id = response['session_id']\n",
    "# print(session_id)\n",
    "# multion.close_session(session_id)\n",
    "# # multion.close_sessions()"
   ]
  }
 ],
 "metadata": {
  "kernelspec": {
   "display_name": "Python 3 (ipykernel)",
   "language": "python",
   "name": "python3"
  },
  "language_info": {
   "codemirror_mode": {
    "name": "ipython",
    "version": 3
   },
   "file_extension": ".py",
   "mimetype": "text/x-python",
   "name": "python",
   "nbconvert_exporter": "python",
   "pygments_lexer": "ipython3",
   "version": "3.12.2"
  }
 },
 "nbformat": 4,
 "nbformat_minor": 4
}
