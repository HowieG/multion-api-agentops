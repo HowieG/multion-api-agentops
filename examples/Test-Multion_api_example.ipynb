{
 "cells": [
  {
   "cell_type": "markdown",
   "metadata": {},
   "source": [
    "# MultiOn API Example\n",
    "\n",
    "Install the latest `multion` python package"
   ]
  },
  {
   "cell_type": "code",
   "execution_count": null,
   "metadata": {},
   "outputs": [],
   "source": [
    "#!pip install -e ../sdks/multion-py"
   ]
  },
  {
   "cell_type": "code",
   "execution_count": null,
   "metadata": {},
   "outputs": [],
   "source": [
    "import multion"
   ]
  },
  {
   "cell_type": "code",
   "execution_count": null,
   "metadata": {},
   "outputs": [],
   "source": [
    "multion.__version__"
   ]
  },
  {
   "cell_type": "markdown",
   "metadata": {},
   "source": [
    "### Generate MultiOn API Key and login\n",
    "\n",
    "Visit [here](https://app.multion.ai/api-keys) to create your MultiOn API Key\n",
    "\n",
    "Visit [here](https://app.agentops.ai/account) to create your AgentOps API Key"
   ]
  },
  {
   "cell_type": "code",
   "execution_count": null,
   "metadata": {},
   "outputs": [],
   "source": [
    "multion.login(use_api=True, multion_api_key=\"08177a120c014ca8887f4962803b21f6\", agentops_api_key=\"e2d78f13-1585-4d45-b482-f67a42ae6099\")"
   ]
  },
  {
   "cell_type": "markdown",
   "metadata": {},
   "source": [
    "### Set API Mode\n",
    "Switch the API to local mode to run the Agent locally with the MultiOn Browser Extension for testing\n",
    "\n",
    "(You can enable the remote mode to run on our hosted cloud for production use)"
   ]
  },
  {
   "cell_type": "code",
   "execution_count": null,
   "metadata": {},
   "outputs": [],
   "source": [
    "multion.set_remote(False)"
   ]
  },
  {
   "cell_type": "markdown",
   "metadata": {},
   "source": [
    "### Try the MultiOn Browse API\n",
    "\n",
    "Give an input language command, starting url and max steps for the agent to take"
   ]
  },
  {
   "cell_type": "code",
   "execution_count": null,
   "metadata": {},
   "outputs": [],
   "source": [
    "response = multion.browse(\n",
    "    {\n",
    "        \"cmd\": \"what is the weather today in sf\",\n",
    "        \"url\": \"https://www.google.com\",\n",
    "        \"maxSteps\": 10,\n",
    "    }\n",
    ")"
   ]
  },
  {
   "cell_type": "code",
   "execution_count": null,
   "metadata": {},
   "outputs": [],
   "source": [
    "# response = multion.browse(\n",
    "#     {\n",
    "#         \"cmd\": \"Can you look up steve k frey on twitter and extract their twitter bio and latest tweets?\",\n",
    "#         \"url\": \"https://twitter.com\",\n",
    "#         \"maxSteps\": 10,\n",
    "#     }\n",
    "# )"
   ]
  },
  {
   "cell_type": "markdown",
   "metadata": {},
   "source": [
    "### OPTIONAL: Try the MultiOn Low-level APIs for granular control\n",
    "\n",
    "`create_session`: Create a new MultiOn Agent with a given starting url"
   ]
  },
  {
   "cell_type": "code",
   "execution_count": null,
   "metadata": {},
   "outputs": [],
   "source": [
    "response = multion.create_session({\"url\": \"https://www.google.com\", \"includeScreenshot\": True})\n",
    "print(response['message'])\n",
    "session_id = response['session_id']\n",
    "session_id"
   ]
  },
  {
   "cell_type": "code",
   "execution_count": null,
   "metadata": {},
   "outputs": [],
   "source": [
    "response"
   ]
  },
  {
   "cell_type": "markdown",
   "metadata": {},
   "source": [
    "`step_session`: Steps the MultiOn Agent once using the specified input command and url \n",
    "\n",
    "Agent outputs a status `CONTINUE` if command has not been fulfilled yet, else `DONE`"
   ]
  },
  {
   "cell_type": "code",
   "execution_count": null,
   "metadata": {},
   "outputs": [],
   "source": [
    "response = multion.step_session(session_id, {\"input\": \"what is the weather today\",\"url\": \"https://www.google.com\", \"includeScreenshot\": True})\n",
    "response['message']"
   ]
  },
  {
   "cell_type": "code",
   "execution_count": null,
   "metadata": {},
   "outputs": [],
   "source": [
    "response"
   ]
  },
  {
   "cell_type": "code",
   "execution_count": null,
   "metadata": {},
   "outputs": [],
   "source": [
    "multion.get_screenshot(response, height=800)"
   ]
  },
  {
   "cell_type": "markdown",
   "metadata": {},
   "source": [
    "`close_session`: Terminate the agent and close the session"
   ]
  },
  {
   "cell_type": "code",
   "execution_count": null,
   "metadata": {},
   "outputs": [],
   "source": [
    "session_id = response['session_id']\n",
    "multion.close_session(session_id)\n",
    "# multion.close_sessions()"
   ]
  }
 ],
 "metadata": {
  "kernelspec": {
   "display_name": "Python 3 (ipykernel)",
   "language": "python",
   "name": "python3"
  },
  "language_info": {
   "codemirror_mode": {
    "name": "ipython",
    "version": 3
   },
   "file_extension": ".py",
   "mimetype": "text/x-python",
   "name": "python",
   "nbconvert_exporter": "python",
   "pygments_lexer": "ipython3",
   "version": "3.11.4"
  }
 },
 "nbformat": 4,
 "nbformat_minor": 4
}
